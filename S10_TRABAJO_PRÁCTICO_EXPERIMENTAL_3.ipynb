{
  "nbformat": 4,
  "nbformat_minor": 0,
  "metadata": {
    "colab": {
      "provenance": [],
      "authorship_tag": "ABX9TyPMsdudm/msCweJN4CQghbN",
      "include_colab_link": true
    },
    "kernelspec": {
      "name": "python3",
      "display_name": "Python 3"
    },
    "language_info": {
      "name": "python"
    }
  },
  "cells": [
    {
      "cell_type": "markdown",
      "metadata": {
        "id": "view-in-github",
        "colab_type": "text"
      },
      "source": [
        "<a href=\"https://colab.research.google.com/github/Josue608/S10-TRABAJO-PR-CTICO-EXPERIMENTAL/blob/main/S10_TRABAJO_PR%C3%81CTICO_EXPERIMENTAL_3.ipynb\" target=\"_parent\"><img src=\"https://colab.research.google.com/assets/colab-badge.svg\" alt=\"Open In Colab\"/></a>"
      ]
    },
    {
      "cell_type": "markdown",
      "source": [
        "## Incertidumbre y Probabilidad ##"
      ],
      "metadata": {
        "id": "sIZVpeYqOgGo"
      }
    },
    {
      "cell_type": "code",
      "execution_count": 1,
      "metadata": {
        "id": "N3tIRB5vOZ34"
      },
      "outputs": [],
      "source": [
        "import random"
      ]
    },
    {
      "cell_type": "code",
      "source": [
        "# Simular 10 tiradas de un dado\n",
        "tiradas = [random.randint(1, 6) for _ in range(10)]\n",
        "print(\"Tiradas:\", tiradas)"
      ],
      "metadata": {
        "colab": {
          "base_uri": "https://localhost:8080/"
        },
        "id": "zHOErMJGOm1H",
        "outputId": "231edce3-471f-4adf-d81d-c3c7bdeed672"
      },
      "execution_count": 2,
      "outputs": [
        {
          "output_type": "stream",
          "name": "stdout",
          "text": [
            "Tiradas: [6, 4, 3, 5, 3, 5, 1, 1, 6, 3]\n"
          ]
        }
      ]
    },
    {
      "cell_type": "code",
      "source": [
        "# Calcular probabilidad de obtener un número mayor a 4\n",
        "exitos = sum(1 for t in tiradas if t > 4)\n",
        "probabilidad = exitos / len(tiradas)\n",
        "print(f\"Veces que salió >4: {exitos}\")\n",
        "print(f\"Probabilidad estimada: {probabilidad:.2f}\")"
      ],
      "metadata": {
        "colab": {
          "base_uri": "https://localhost:8080/"
        },
        "id": "y6cKTr4_OnH_",
        "outputId": "9418ae04-acf0-46db-ac9f-44c06bdffd5f"
      },
      "execution_count": 3,
      "outputs": [
        {
          "output_type": "stream",
          "name": "stdout",
          "text": [
            "Veces que salió >4: 4\n",
            "Probabilidad estimada: 0.40\n"
          ]
        }
      ]
    },
    {
      "cell_type": "markdown",
      "source": [
        "## Funciones de Pertenencia ##"
      ],
      "metadata": {
        "id": "NnoVkuUJOtsw"
      }
    },
    {
      "cell_type": "code",
      "source": [
        "def triangular(x, a, b, c):\n",
        "\n",
        " # Función de pertenencia triangular.\n",
        " # a: inicio de la base\n",
        " # b: punto máximo (grado 1)\n",
        " # c: fin de la base\n",
        "\n",
        "  if x <= a or x >= c:\n",
        "    return 0\n",
        "  elif a < x < b:\n",
        "    return (x - a) / (b - a)\n",
        "  elif b <= x < c:\n",
        "    return (c - x) / (c - b)\n",
        "  else:\n",
        "    return 0"
      ],
      "metadata": {
        "id": "yGAi8o8zOuDf"
      },
      "execution_count": 10,
      "outputs": []
    },
    {
      "cell_type": "code",
      "source": [
        "# Ejemplo: temperatura cálida en [15, 25, 35]\n",
        "temperatura = 25\n",
        "grado = triangular(temperatura, 15, 25, 35)\n",
        "print(f\"Grado de pertenencia de {temperatura}°C a 'cálida': {grado:.2f}\")"
      ],
      "metadata": {
        "colab": {
          "base_uri": "https://localhost:8080/"
        },
        "id": "kk2jtusVOuUB",
        "outputId": "c6d8235b-f6e2-4ac2-cf51-e24ab53d8545"
      },
      "execution_count": 11,
      "outputs": [
        {
          "output_type": "stream",
          "name": "stdout",
          "text": [
            "Grado de pertenencia de 25°C a 'cálida': 1.00\n"
          ]
        }
      ]
    },
    {
      "cell_type": "markdown",
      "source": [
        "## Defuzificación por Método del Centroide ##"
      ],
      "metadata": {
        "id": "mez5W6D0O5Tg"
      }
    },
    {
      "cell_type": "code",
      "source": [
        "# Valores y sus grados de pertenencia\n",
        "valores = [10, 20, 30]\n",
        "grados = [0.2, 0.5, 0.8]"
      ],
      "metadata": {
        "id": "9PIQMc9cOup_"
      },
      "execution_count": 12,
      "outputs": []
    },
    {
      "cell_type": "code",
      "source": [
        "# Fórmula del centroide: (Σ µ(x) * x) / (Σ µ(x))\n",
        "numerador = sum(mu * x for mu, x in zip(grados, valores))\n",
        "denominador = sum(grados)\n",
        "centroide = numerador / denominador"
      ],
      "metadata": {
        "id": "wsf8e5okPA0P"
      },
      "execution_count": 13,
      "outputs": []
    },
    {
      "cell_type": "code",
      "source": [
        "print(\"Valores:\", valores)\n",
        "print(\"Grados de pertenencia:\", grados)\n",
        "print(f\"Valor defuzificado (centroide): {centroide:.2f}\")"
      ],
      "metadata": {
        "colab": {
          "base_uri": "https://localhost:8080/"
        },
        "id": "dfOrdDH2PA_3",
        "outputId": "485dac1b-7941-465e-efa9-741ff0144695"
      },
      "execution_count": 14,
      "outputs": [
        {
          "output_type": "stream",
          "name": "stdout",
          "text": [
            "Valores: [10, 20, 30]\n",
            "Grados de pertenencia: [0.2, 0.5, 0.8]\n",
            "Valor defuzificado (centroide): 24.00\n"
          ]
        }
      ]
    }
  ]
}